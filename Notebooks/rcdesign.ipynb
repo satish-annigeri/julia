{
 "cells": [
  {
   "cell_type": "markdown",
   "metadata": {},
   "source": [
    "# Materials\n",
    "\n",
    "## Concrete\n",
    "\n",
    "## Rebars\n",
    "\n",
    "### Bars with distinct yield point\n",
    "\n",
    "### Cold worked deformed bars\n",
    "\n"
   ]
  },
  {
   "cell_type": "code",
   "execution_count": 1,
   "metadata": {
    "collapsed": false
   },
   "outputs": [
    {
     "name": "stdout",
     "output_type": "stream",
     "text": [
      "-0.01 0.0\n",
      "0.0 0.0\n",
      "0.0005 4.861111111111111\n",
      "0.001 8.333333333333334\n",
      "0.0015 10.416666666666666\n",
      "0.002 11.11111111111111\n",
      "0.0025 11.11111111111111\n",
      "0.003 11.11111111111111\n",
      "0.0035 11.11111111111111\n",
      "0.004 0.0\n",
      "\n",
      "\n",
      "-0.01 0.0\n",
      "0.0 0.0\n",
      "0.0005 4.861111111111111\n",
      "0.001 8.333333333333334\n",
      "0.0015 10.416666666666666\n",
      "0.002 11.11111111111111\n",
      "0.0025 11.11111111111111\n",
      "0.003 11.11111111111111\n",
      "0.0035 11.11111111111111\n",
      "0.004 0.0\n"
     ]
    }
   ],
   "source": [
    "ecy = 0.002\n",
    "ecu = 0.0035\n",
    "gammac = 1.5\n",
    "gammas = 1.15\n",
    "Es = 2e5\n",
    "\n",
    "function calc_fc(ec, fck)\n",
    "    if ec < 0.0 || ec > ecu\n",
    "        return 0.0\n",
    "    elseif ec >= ecy\n",
    "        return fck / gammac^2\n",
    "    else\n",
    "        e = ec / ecy\n",
    "        return (2*e - e*e) * fck / gammac^2\n",
    "    end\n",
    "end\n",
    "\n",
    "function calc_fc(ec::Vector, fck::Number)\n",
    "    for e in ec\n",
    "        println(e, ' ', calc_fc(e, fck))\n",
    "    end\n",
    "end\n",
    "\n",
    "ec = [-0.01, 0.0, 0.0005, 0.001, 0.0015, 0.002, 0.0025, 0.003, 0.0035, 0.004]\n",
    "for e in ec\n",
    "    println(e, \" \", calc_fc(e, 25))\n",
    "end\n",
    "println(\"\\n\")\n",
    "calc_fc(ec, 25)"
   ]
  },
  {
   "cell_type": "code",
   "execution_count": 3,
   "metadata": {
    "collapsed": false
   },
   "outputs": [
    {
     "name": "stderr",
     "output_type": "stream",
     "text": [
      "WARNING: Method definition calc_xumax(Any) in module Main at In[2]:2 overwritten at In[3]:2"
     ]
    },
    {
     "name": "stdout",
     "output_type": "stream",
     "text": [
      "0.30363036303630364\n",
      "0.2738095238095238\n",
      "0.26062322946175637\n",
      "250 0.30363036303630364\n",
      "415 0.2738095238095238\n",
      "500 0.26062322946175637\n"
     ]
    },
    {
     "name": "stderr",
     "output_type": "stream",
     "text": [
      ".\n",
      "WARNING: Method definition calc_xumax(Array{T<:Any, 1}) in module Main at In[2]:6 overwritten at In[3]:6.\n"
     ]
    }
   ],
   "source": [
    "function calc_xumax(fy)\n",
    "    return ecy / (ecy + ecu + fy / (gammas * Es))\n",
    "end\n",
    "\n",
    "function calc_xumax(fy::Vector)\n",
    "    for i = 1:length(fy)\n",
    "        println(fy[i], \" \", calc_xumax(fy[i]))\n",
    "    end\n",
    "end\n",
    "\n",
    "println(calc_xumax(250))\n",
    "println(calc_xumax(415))\n",
    "println(calc_xumax(500))\n",
    "\n",
    "fy = [250, 415, 500]\n",
    "calc_xumax(fy)"
   ]
  },
  {
   "cell_type": "code",
   "execution_count": 31,
   "metadata": {
    "collapsed": false
   },
   "outputs": [
    {
     "name": "stdout",
     "output_type": "stream",
     "text": [
      "0.0015 294.0571428571429\n",
      "0.004173913043478261 434.7826086956522\n",
      "[0.0,0.000902174,0.00144348,0.00157957,0.0016337,0.00188783,0.00192391,0.00236,0.00241413,0.00273217,0.00275924,0.00376826,0.00380435,0.00430435]\n",
      "[0.0,180.435,288.696,301.604,306.739,322.539,324.783,340.834,342.826,351.14,351.848,360.558,360.87,360.87]\n"
     ]
    },
    {
     "name": "stderr",
     "output_type": "stream",
     "text": [
      "WARNING: Method definition calc_fs(Any, Any) in module Main at In[30]:2 overwritten at In[31]:2.\n",
      "WARNING: Method definition calc_fs(Any, Any, Any) in module Main at In[30]:2 overwritten at In[31]:2.\n",
      "WARNING: Method definition calc_fs(Array{T<:Any, 1}, Number) in module Main at In[30]:33 overwritten at In[31]:33.\n",
      "WARNING: Method definition calc_fs(Array{T<:Any, 1}, Number, Bool) in module Main at In[30]:33 overwritten at In[31]:33.\n"
     ]
    }
   ],
   "source": [
    "function calc_fs(es, fy, CWDB=true)\n",
    "    es = abs(es)\n",
    "    if CWDB\n",
    "        s = [0.8, 0.85, 0.9, 0.95, 0.975, 1.0]\n",
    "        rs = [0.0, 0.0001, 0.0003, 0.0007, 0.001, 0.002]\n",
    "        e = s * fy / (gammas * Es) + rs\n",
    "        if es <= e[1]\n",
    "            return es * Es\n",
    "        elseif es >= e[6]\n",
    "            fy / gammas\n",
    "        else\n",
    "            i = 1\n",
    "            while es > e[i+1]\n",
    "                i += 1\n",
    "            end\n",
    "            x1 = e[i]\n",
    "            y1 = s[i] * fy / gammas\n",
    "            x2 = e[i+1]\n",
    "            y2 = s[i+1] * fy / gammas\n",
    "            return y1 + (y2 - y1) / (x2 - x1) * (es - x1)\n",
    "        end\n",
    "    else\n",
    "        esy = fy / (gammas * Es)\n",
    "        if es <= esy\n",
    "            return es * Es\n",
    "        else\n",
    "            return fy / (gammas)\n",
    "        end\n",
    "    end\n",
    "end\n",
    "\n",
    "function calc_fs(es::Vector, fy::Number, CWDB::Bool=true)\n",
    "    fs = zeros(es)\n",
    "    for i = 1:length(es)\n",
    "        fs[i] = calc_fs(es[i], fy, CWDB)\n",
    "    end\n",
    "    return fs\n",
    "end\n",
    "\n",
    "#calc_fs(250/(1.15*2e5), 250, false)\n",
    "es = 0.0015\n",
    "println(es, \" \", calc_fs(es, 415))\n",
    "es = 1*500/(1.15*2e5) + 0.002\n",
    "println(es, \" \", calc_fs(es, 500))\n",
    "\n",
    "fy = 415\n",
    "es = [0, 0.5, 0.8, 0.82, 0.85, 0.88, 0.9, 0.92, 0.95, 0.96, 0.975, 0.98, 1.0, 1.0] * fy / (gammas * Es)\n",
    "es += [0, 0, 0, 0.0001, 0.0001, 0.0003, 0.0003, 0.0007, 0.0007, 0.001, 0.001, 0.002, 0.002, 0.0025]\n",
    "fs = calc_fs(es, fy, true)\n",
    "println(es, \"\\n\", fs)"
   ]
  },
  {
   "cell_type": "code",
   "execution_count": 15,
   "metadata": {
    "collapsed": false
   },
   "outputs": [
    {
     "name": "stdout",
     "output_type": "stream",
     "text": [
      "[0.531353,0.479167,0.456091]\n"
     ]
    }
   ],
   "source": [
    "function calc_k1(fy::Number)\n",
    "    return ecu / (ecy + ecu + fy / (gammas * Es))\n",
    "end\n",
    "\n",
    "function calc_k1(fy::Array{Number, 1})\n",
    "    x = zeros(fy)\n",
    "    for i = 1:length(fy)\n",
    "        x[i] = calc_k1(fy[i])\n",
    "    end\n",
    "    return x\n",
    "end\n",
    "\n",
    "println(calc_k1(Float64[250, 415, 500]))"
   ]
  },
  {
   "cell_type": "code",
   "execution_count": 4,
   "metadata": {
    "collapsed": false
   },
   "outputs": [
    {
     "name": "stdout",
     "output_type": "stream",
     "text": [
      "68//189\n"
     ]
    }
   ],
   "source": [
    "function calc_k2()\n",
    "    return 68 // 189\n",
    "end\n",
    "\n",
    "println(calc_k2())"
   ]
  },
  {
   "cell_type": "code",
   "execution_count": 5,
   "metadata": {
    "collapsed": false
   },
   "outputs": [
    {
     "name": "stdout",
     "output_type": "stream",
     "text": [
      "99//238\n"
     ]
    }
   ],
   "source": [
    "function calc_k3()\n",
    "    return 99 // 238\n",
    "end\n",
    "\n",
    "println(calc_k3())"
   ]
  },
  {
   "cell_type": "code",
   "execution_count": 20,
   "metadata": {
    "collapsed": false
   },
   "outputs": [
    {
     "name": "stdout",
     "output_type": "stream",
     "text": [
      "0.13296405972697412\n",
      "109.35741025171642\n"
     ]
    },
    {
     "name": "stderr",
     "output_type": "stream",
     "text": [
      "WARNING: Method definition calc_Q(Number, Number) in module Main at In[19]:2 overwritten at In[20]:2.\n",
      "WARNING: Method definition calc_Mulim(Number, Number, Number, Number) in module Main at In[19]:8 overwritten at In[20]:8.\n"
     ]
    }
   ],
   "source": [
    "function calc_Q(fy::Number, xubyd::Number)\n",
    "    k2 = calc_k2()\n",
    "    k3 = calc_k3()\n",
    "    return k2 * xubyd * (1.0 - k3 * xubyd)\n",
    "end\n",
    "\n",
    "function calc_Mulim(fck::Number, fy::Number, b::Number, d::Number)\n",
    "    xumaxbyd = calc_k1(fy)\n",
    "    Q = calc_Q(fy, xumaxbyd)\n",
    "    return Q * fck * b * d^2\n",
    "end\n",
    "\n",
    "fy = 500.0\n",
    "xumaxbyd = calc_k1(fy)\n",
    "println(calc_Q(fy, xumaxbyd))\n",
    "println(calc_Mulim(20.0, 415.0, 230.0, 415.0)/1e6)"
   ]
  },
  {
   "cell_type": "code",
   "execution_count": 26,
   "metadata": {
    "collapsed": false
   },
   "outputs": [
    {
     "name": "stdout",
     "output_type": "stream",
     "text": [
      "Doubly reinforced beam\n",
      "false\n"
     ]
    },
    {
     "name": "stderr",
     "output_type": "stream",
     "text": [
      "WARNING: Method definition rect_design(Any, Any, Any, Any, Any, Any, Any) in module Main at In[25]:2 overwritten at In[26]:2.\n"
     ]
    }
   ],
   "source": [
    "function rect_design(Mu, Vu, Tu, fck, fy, b, d)\n",
    "    Mu = abs(Mu)\n",
    "    Vu = abs(Vu)\n",
    "    if Mu <= calc_Mulim(fck, fy, b, d)\n",
    "        println(\"Singly reinforced beam. Mu = \", Mu, \" < \", calc_Mulim(fck, fy, b, d))\n",
    "        return true\n",
    "    else\n",
    "        println(\"Doubly reinforced beam\")\n",
    "        return false\n",
    "    end\n",
    "end\n",
    "\n",
    "println(rect_design(110e6, 90e3, 0.0, 20.0, 415.0, 230.0, 415.0))"
   ]
  },
  {
   "cell_type": "code",
   "execution_count": null,
   "metadata": {
    "collapsed": true
   },
   "outputs": [],
   "source": []
  }
 ],
 "metadata": {
  "anaconda-cloud": {},
  "kernelspec": {
   "display_name": "Julia 0.5.0",
   "language": "julia",
   "name": "julia-0.5"
  },
  "language_info": {
   "file_extension": ".jl",
   "mimetype": "application/julia",
   "name": "julia",
   "version": "0.5.0"
  }
 },
 "nbformat": 4,
 "nbformat_minor": 1
}
