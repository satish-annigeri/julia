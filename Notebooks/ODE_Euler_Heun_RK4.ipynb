{
 "cells": [
  {
   "cell_type": "code",
   "execution_count": 1,
   "metadata": {
    "collapsed": false
   },
   "outputs": [
    {
     "name": "stdout",
     "output_type": "stream",
     "text": [
      "linspace(0.0,1.0,6)\n",
      "[0.0,0.0,0.04000000000000001,0.12800000000000003,0.27360000000000007,0.4883200000000001]\n",
      "linspace(0.0,1.0,6)\n",
      "[0.0,0.020000000000000004,0.08840000000000002,0.21584800000000004,0.4153345600000001,0.7027081632000001]\n",
      "linspace(0.0,1.0,6)\n",
      "[0.0,0.021400000000000002,0.09181796000000002,0.222106456344,0.4255208257785616,0.7182511366059352]\n"
     ]
    }
   ],
   "source": [
    "function f(x, y)\n",
    "  return y + x\n",
    "end\n",
    "\n",
    "function euler(f, x0, y0, xn, n)\n",
    "  x = linspace(x0, xn, n+1)\n",
    "  y = zeros(x)\n",
    "  h = x[2] - x[1]\n",
    "  y[1] = y0\n",
    "  for i = 1:n\n",
    "    y[i+1] = y[i] + h * f(x[i], y[i])\n",
    "  end\n",
    "  return x, y\n",
    "end\n",
    "\n",
    "function heun(f, x0, y0, xn, n)\n",
    "  x = linspace(x0, xn, n+1)\n",
    "  y = zeros(x)\n",
    "  h = x[2] - x[1]\n",
    "  y[1] = y0\n",
    "  for i = 1:n\n",
    "    k1 = h * f(x[i], y[i])\n",
    "    k2 = h * f(x[i+1], y[i]+k1)\n",
    "    y[i+1] = y[i] + (k1 + k2) / 2\n",
    "  end\n",
    "  return x, y\n",
    "end\n",
    "\n",
    "function rk4(f, x0, y0, xn, n)\n",
    "  x = linspace(x0, xn, n+1)\n",
    "  y = zeros(x)\n",
    "  h = x[2] - x[1]\n",
    "  y[1] = y0\n",
    "  for i = 1:n\n",
    "    k1 = h * f(x[i], y[i])\n",
    "    k2 = h * f(x[i]+h/2, y[i]+k1/2)\n",
    "    k3 = h * f(x[i]+h/2, y[i]+k2/2)\n",
    "    k4 = h * f(x[i]+h, y[i]+k3)\n",
    "    y[i+1] = y[i] + (k1 + 2*k2 + 2*k3 + k4) / 6\n",
    "  end\n",
    "  return x, y\n",
    "end\n",
    "\n",
    "x, y = euler(f, 0, 0, 1, 5)\n",
    "println(x)\n",
    "println(y)\n",
    "\n",
    "x, y = heun(f, 0, 0, 1, 5)\n",
    "println(x)\n",
    "println(y)\n",
    "\n",
    "x, y = rk4(f, 0, 0, 1, 5)\n",
    "println(x)\n",
    "println(y)"
   ]
  },
  {
   "cell_type": "code",
   "execution_count": null,
   "metadata": {
    "collapsed": true
   },
   "outputs": [],
   "source": []
  }
 ],
 "metadata": {
  "kernelspec": {
   "display_name": "Julia 0.4.6",
   "language": "julia",
   "name": "julia-0.4"
  },
  "language_info": {
   "file_extension": ".jl",
   "mimetype": "application/julia",
   "name": "julia",
   "version": "0.4.6"
  }
 },
 "nbformat": 4,
 "nbformat_minor": 0
}
